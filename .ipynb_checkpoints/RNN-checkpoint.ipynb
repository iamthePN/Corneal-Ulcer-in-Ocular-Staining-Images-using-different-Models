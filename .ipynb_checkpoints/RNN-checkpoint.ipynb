{
 "cells": [
  {
   "cell_type": "code",
   "execution_count": 1,
   "id": "6b2c06af",
   "metadata": {},
   "outputs": [
    {
     "name": "stdout",
     "output_type": "stream",
     "text": [
      "WARNING:tensorflow:From E:\\Softwares\\Anaconda\\lib\\site-packages\\keras\\src\\losses.py:2976: The name tf.losses.sparse_softmax_cross_entropy is deprecated. Please use tf.compat.v1.losses.sparse_softmax_cross_entropy instead.\n",
      "\n"
     ]
    }
   ],
   "source": [
    "import os\n",
    "import cv2\n",
    "import tensorflow as tf\n",
    "from PIL import Image\n",
    "import numpy as np\n",
    "from sklearn.model_selection import train_test_split\n",
    "from keras.utils import to_categorical\n",
    "from keras.models import Sequential\n",
    "from keras.layers import Conv2D, MaxPooling2D, Activation, Dropout, Flatten, Dense, LSTM\n",
    "from keras.layers import TimeDistributed"
   ]
  },
  {
   "cell_type": "code",
   "execution_count": 2,
   "id": "f6ec4fbe",
   "metadata": {},
   "outputs": [],
   "source": [
    "image_directory = 'sorted_images/'\n",
    "dataset = []\n",
    "label = []\n",
    "\n",
    "point_like_corneal_ulcers = os.listdir(image_directory + '0/')\n",
    "point_flaky_mixed_corneal_ulcers = os.listdir(image_directory + '1')\n",
    "flaky_corneal_ulcers = os.listdir(image_directory + '2/')"
   ]
  },
  {
   "cell_type": "code",
   "execution_count": 3,
   "id": "1ae690e0",
   "metadata": {},
   "outputs": [],
   "source": [
    "INPUT_SIZE = 128\n",
    "for i, image_name in enumerate(point_like_corneal_ulcers):\n",
    "    if(image_name.split('.')[1]=='jpg'):\n",
    "        image = cv2.imread(image_directory+'0/'+image_name)\n",
    "        image = image.fromarray(image,'RGB')\n",
    "        image = image.resize((INPUT_SIZE, INPUT_SIZE))\n",
    "        dataset.append(np.array(image))\n",
    "        label.append(0)\n",
    "        \n",
    "for i, image_name in enumerate(point_flaky_mixed_corneal_ulcers):\n",
    "    if(image_name.split('.')[1]=='jpg'):\n",
    "        image = cv2.imread(image_directory+'1/'+image_name)\n",
    "        image = image.fromarray(image,'RGB')\n",
    "        image = image.resize((INPUT_SIZE, INPUT_SIZE))\n",
    "        dataset.append(np.array(image))\n",
    "        label.append(1)\n",
    "        \n",
    "for i, image_name in enumerate(flaky_corneal_ulcers):\n",
    "    if(image_name.split('.')[1]=='jpg'):\n",
    "        image = cv2.imread(image_directory+'2/'+image_name)\n",
    "        image = image.fromarray(image,'RGB')\n",
    "        image = image.resize((INPUT_SIZE, INPUT_SIZE))\n",
    "        dataset.append(np.array(image))\n",
    "        label.append(2)"
   ]
  },
  {
   "cell_type": "code",
   "execution_count": 4,
   "id": "1b0a3012",
   "metadata": {},
   "outputs": [],
   "source": [
    "dataset = np.array(dataset)\n",
    "label = np.array(label)"
   ]
  },
  {
   "cell_type": "code",
   "execution_count": 5,
   "id": "90ec83b9",
   "metadata": {},
   "outputs": [],
   "source": [
    "x_train, x_test, y_train, y_test = train_test_split(dataset, label, test_size=0.2)"
   ]
  },
  {
   "cell_type": "code",
   "execution_count": 6,
   "id": "3c589ec0",
   "metadata": {},
   "outputs": [],
   "source": [
    "SEQ_LENGTH = 1 \n",
    "x_train = x_train.reshape((-1, SEQ_LENGTH, INPUT_SIZE, INPUT_SIZE, 3))\n",
    "x_test = x_test.reshape((-1, SEQ_LENGTH, INPUT_SIZE, INPUT_SIZE, 3))"
   ]
  },
  {
   "cell_type": "code",
   "execution_count": 7,
   "id": "4b1072ff",
   "metadata": {},
   "outputs": [
    {
     "name": "stdout",
     "output_type": "stream",
     "text": [
      "(569, 1, 128, 128, 3)\n",
      "(143, 1, 128, 128, 3)\n",
      "(569,)\n",
      "(143,)\n"
     ]
    }
   ],
   "source": [
    "print(x_train.shape)\n",
    "print(x_test.shape)\n",
    "print(y_train.shape)\n",
    "print(y_test.shape)"
   ]
  },
  {
   "cell_type": "code",
   "execution_count": null,
   "id": "e80f6576",
   "metadata": {},
   "outputs": [],
   "source": []
  },
  {
   "cell_type": "code",
   "execution_count": 8,
   "id": "ab092c27",
   "metadata": {},
   "outputs": [],
   "source": [
    "y_train = to_categorical(y_train, num_classes=3)\n",
    "y_test = to_categorical(y_test, num_classes=3)"
   ]
  },
  {
   "cell_type": "code",
   "execution_count": 9,
   "id": "db60d31f",
   "metadata": {},
   "outputs": [
    {
     "name": "stdout",
     "output_type": "stream",
     "text": [
      "WARNING:tensorflow:From E:\\Softwares\\Anaconda\\lib\\site-packages\\keras\\src\\backend.py:873: The name tf.get_default_graph is deprecated. Please use tf.compat.v1.get_default_graph instead.\n",
      "\n",
      "WARNING:tensorflow:From E:\\Softwares\\Anaconda\\lib\\site-packages\\keras\\src\\layers\\pooling\\max_pooling2d.py:161: The name tf.nn.max_pool is deprecated. Please use tf.nn.max_pool2d instead.\n",
      "\n",
      "WARNING:tensorflow:From E:\\Softwares\\Anaconda\\lib\\site-packages\\keras\\src\\optimizers\\__init__.py:309: The name tf.train.Optimizer is deprecated. Please use tf.compat.v1.train.Optimizer instead.\n",
      "\n"
     ]
    }
   ],
   "source": [
    "model = Sequential()\n",
    "model.add(TimeDistributed(Conv2D(32, (3, 3)), input_shape=(SEQ_LENGTH, INPUT_SIZE, INPUT_SIZE, 3)))\n",
    "model.add(TimeDistributed(Activation('relu')))\n",
    "model.add(TimeDistributed(MaxPooling2D(pool_size=(2, 2))))\n",
    "\n",
    "model.add(TimeDistributed(Conv2D(32, (3, 3), kernel_initializer='he_uniform')))\n",
    "model.add(TimeDistributed(Activation('relu')))\n",
    "model.add(TimeDistributed(MaxPooling2D(pool_size=(2, 2))))\n",
    "\n",
    "model.add(TimeDistributed(Conv2D(32, (3, 3), kernel_initializer='he_uniform')))\n",
    "model.add(TimeDistributed(Activation('relu')))\n",
    "model.add(TimeDistributed(MaxPooling2D(pool_size=(2, 2))))\n",
    "\n",
    "model.add(TimeDistributed(Flatten()))\n",
    "model.add(LSTM(64)) \n",
    "model.add(Activation('relu'))\n",
    "model.add(Dropout(0.5))\n",
    "model.add(Dense(3))\n",
    "model.add(Activation('softmax'))\n",
    "\n",
    "model.compile(loss='categorical_crossentropy', optimizer='adam', metrics=['accuracy'])"
   ]
  },
  {
   "cell_type": "code",
   "execution_count": 11,
   "id": "f9496c94",
   "metadata": {},
   "outputs": [
    {
     "name": "stdout",
     "output_type": "stream",
     "text": [
      "Epoch 1/100\n",
      "9/9 [==============================] - 5s 592ms/step - loss: 1.0235 - accuracy: 0.4464 - val_loss: 0.9732 - val_accuracy: 0.4965\n",
      "Epoch 2/100\n",
      "9/9 [==============================] - 5s 557ms/step - loss: 1.0149 - accuracy: 0.4657 - val_loss: 0.9708 - val_accuracy: 0.4965\n",
      "Epoch 3/100\n",
      "9/9 [==============================] - 5s 572ms/step - loss: 1.0177 - accuracy: 0.4745 - val_loss: 0.9691 - val_accuracy: 0.4965\n",
      "Epoch 4/100\n",
      "9/9 [==============================] - 5s 537ms/step - loss: 0.9996 - accuracy: 0.4938 - val_loss: 0.9680 - val_accuracy: 0.4965\n",
      "Epoch 5/100\n",
      "9/9 [==============================] - 5s 564ms/step - loss: 1.0156 - accuracy: 0.4833 - val_loss: 0.9673 - val_accuracy: 0.4965\n",
      "Epoch 6/100\n",
      "9/9 [==============================] - 5s 533ms/step - loss: 0.9983 - accuracy: 0.4851 - val_loss: 0.9667 - val_accuracy: 0.4965\n",
      "Epoch 7/100\n",
      "9/9 [==============================] - 5s 551ms/step - loss: 1.0447 - accuracy: 0.4288 - val_loss: 0.9664 - val_accuracy: 0.4965\n",
      "Epoch 8/100\n",
      "9/9 [==============================] - 5s 536ms/step - loss: 1.0029 - accuracy: 0.4710 - val_loss: 0.9663 - val_accuracy: 0.4965\n",
      "Epoch 9/100\n",
      "9/9 [==============================] - 5s 527ms/step - loss: 1.0052 - accuracy: 0.4728 - val_loss: 0.9660 - val_accuracy: 0.4965\n",
      "Epoch 10/100\n",
      "9/9 [==============================] - 5s 544ms/step - loss: 1.0056 - accuracy: 0.4798 - val_loss: 0.9659 - val_accuracy: 0.4965\n",
      "Epoch 11/100\n",
      "9/9 [==============================] - 5s 568ms/step - loss: 1.0125 - accuracy: 0.5026 - val_loss: 0.9656 - val_accuracy: 0.4965\n",
      "Epoch 12/100\n",
      "9/9 [==============================] - 5s 555ms/step - loss: 1.0115 - accuracy: 0.4710 - val_loss: 0.9654 - val_accuracy: 0.4965\n",
      "Epoch 13/100\n",
      "9/9 [==============================] - 5s 551ms/step - loss: 1.0060 - accuracy: 0.4745 - val_loss: 0.9651 - val_accuracy: 0.4965\n",
      "Epoch 14/100\n",
      "9/9 [==============================] - 5s 565ms/step - loss: 0.9873 - accuracy: 0.4780 - val_loss: 0.9649 - val_accuracy: 0.4965\n",
      "Epoch 15/100\n",
      "9/9 [==============================] - 5s 525ms/step - loss: 1.0083 - accuracy: 0.4587 - val_loss: 0.9648 - val_accuracy: 0.4965\n",
      "Epoch 16/100\n",
      "9/9 [==============================] - 5s 563ms/step - loss: 0.9935 - accuracy: 0.4903 - val_loss: 0.9647 - val_accuracy: 0.4965\n",
      "Epoch 17/100\n",
      "9/9 [==============================] - 5s 551ms/step - loss: 1.0038 - accuracy: 0.4728 - val_loss: 0.9646 - val_accuracy: 0.4965\n",
      "Epoch 18/100\n",
      "9/9 [==============================] - 5s 578ms/step - loss: 1.0024 - accuracy: 0.5044 - val_loss: 0.9647 - val_accuracy: 0.4965\n",
      "Epoch 19/100\n",
      "9/9 [==============================] - 5s 555ms/step - loss: 0.9872 - accuracy: 0.4710 - val_loss: 0.9646 - val_accuracy: 0.4965\n",
      "Epoch 20/100\n",
      "9/9 [==============================] - 5s 591ms/step - loss: 0.9954 - accuracy: 0.5079 - val_loss: 0.9648 - val_accuracy: 0.4965\n",
      "Epoch 21/100\n",
      "9/9 [==============================] - 6s 633ms/step - loss: 0.9915 - accuracy: 0.4974 - val_loss: 0.9648 - val_accuracy: 0.4965\n",
      "Epoch 22/100\n",
      "9/9 [==============================] - 6s 615ms/step - loss: 0.9933 - accuracy: 0.5009 - val_loss: 0.9646 - val_accuracy: 0.4965\n",
      "Epoch 23/100\n",
      "9/9 [==============================] - 6s 612ms/step - loss: 0.9992 - accuracy: 0.5009 - val_loss: 0.9645 - val_accuracy: 0.4965\n",
      "Epoch 24/100\n",
      "9/9 [==============================] - 5s 598ms/step - loss: 0.9966 - accuracy: 0.4815 - val_loss: 0.9646 - val_accuracy: 0.4965\n",
      "Epoch 25/100\n",
      "9/9 [==============================] - 5s 586ms/step - loss: 0.9985 - accuracy: 0.4569 - val_loss: 0.9644 - val_accuracy: 0.4965\n",
      "Epoch 26/100\n",
      "9/9 [==============================] - 5s 574ms/step - loss: 0.9785 - accuracy: 0.5114 - val_loss: 0.9643 - val_accuracy: 0.4965\n",
      "Epoch 27/100\n",
      "9/9 [==============================] - 5s 572ms/step - loss: 0.9915 - accuracy: 0.4938 - val_loss: 0.9642 - val_accuracy: 0.4965\n",
      "Epoch 28/100\n",
      "9/9 [==============================] - 5s 595ms/step - loss: 1.0079 - accuracy: 0.4657 - val_loss: 0.9642 - val_accuracy: 0.4965\n",
      "Epoch 29/100\n",
      "9/9 [==============================] - 5s 569ms/step - loss: 1.0028 - accuracy: 0.4692 - val_loss: 0.9644 - val_accuracy: 0.4965\n",
      "Epoch 30/100\n",
      "9/9 [==============================] - 5s 564ms/step - loss: 1.0011 - accuracy: 0.4868 - val_loss: 0.9646 - val_accuracy: 0.4965\n",
      "Epoch 31/100\n",
      "9/9 [==============================] - 5s 542ms/step - loss: 0.9933 - accuracy: 0.4815 - val_loss: 0.9649 - val_accuracy: 0.4965\n",
      "Epoch 32/100\n",
      "9/9 [==============================] - 5s 567ms/step - loss: 0.9782 - accuracy: 0.5009 - val_loss: 0.9649 - val_accuracy: 0.4965\n",
      "Epoch 33/100\n",
      "9/9 [==============================] - 5s 579ms/step - loss: 0.9877 - accuracy: 0.5044 - val_loss: 0.9647 - val_accuracy: 0.4965\n",
      "Epoch 34/100\n",
      "9/9 [==============================] - 5s 572ms/step - loss: 0.9937 - accuracy: 0.5079 - val_loss: 0.9643 - val_accuracy: 0.4965\n",
      "Epoch 35/100\n",
      "9/9 [==============================] - 5s 568ms/step - loss: 0.9955 - accuracy: 0.4833 - val_loss: 0.9643 - val_accuracy: 0.4965\n",
      "Epoch 36/100\n",
      "9/9 [==============================] - 5s 569ms/step - loss: 0.9938 - accuracy: 0.4921 - val_loss: 0.9643 - val_accuracy: 0.4965\n",
      "Epoch 37/100\n",
      "9/9 [==============================] - 5s 599ms/step - loss: 1.0024 - accuracy: 0.4886 - val_loss: 0.9643 - val_accuracy: 0.4965\n",
      "Epoch 38/100\n",
      "9/9 [==============================] - 5s 562ms/step - loss: 1.0007 - accuracy: 0.4763 - val_loss: 0.9644 - val_accuracy: 0.4965\n",
      "Epoch 39/100\n",
      "9/9 [==============================] - 5s 602ms/step - loss: 1.0018 - accuracy: 0.4903 - val_loss: 0.9645 - val_accuracy: 0.4965\n",
      "Epoch 40/100\n",
      "9/9 [==============================] - 6s 658ms/step - loss: 0.9944 - accuracy: 0.4974 - val_loss: 0.9644 - val_accuracy: 0.4965\n",
      "Epoch 41/100\n",
      "9/9 [==============================] - 5s 590ms/step - loss: 0.9924 - accuracy: 0.4974 - val_loss: 0.9643 - val_accuracy: 0.4965\n",
      "Epoch 42/100\n",
      "9/9 [==============================] - 6s 675ms/step - loss: 0.9915 - accuracy: 0.5132 - val_loss: 0.9643 - val_accuracy: 0.4965\n",
      "Epoch 43/100\n",
      "9/9 [==============================] - 5s 545ms/step - loss: 0.9911 - accuracy: 0.5009 - val_loss: 0.9642 - val_accuracy: 0.4965\n",
      "Epoch 44/100\n",
      "9/9 [==============================] - 5s 553ms/step - loss: 0.9910 - accuracy: 0.5009 - val_loss: 0.9640 - val_accuracy: 0.4965\n",
      "Epoch 45/100\n",
      "9/9 [==============================] - 5s 531ms/step - loss: 0.9873 - accuracy: 0.5114 - val_loss: 0.9640 - val_accuracy: 0.4965\n",
      "Epoch 46/100\n",
      "9/9 [==============================] - 5s 593ms/step - loss: 0.9884 - accuracy: 0.5009 - val_loss: 0.9639 - val_accuracy: 0.4965\n",
      "Epoch 47/100\n",
      "9/9 [==============================] - 5s 562ms/step - loss: 0.9941 - accuracy: 0.5079 - val_loss: 0.9642 - val_accuracy: 0.4965\n",
      "Epoch 48/100\n",
      "9/9 [==============================] - 5s 545ms/step - loss: 0.9926 - accuracy: 0.5079 - val_loss: 0.9646 - val_accuracy: 0.4965\n",
      "Epoch 49/100\n",
      "9/9 [==============================] - 5s 583ms/step - loss: 0.9840 - accuracy: 0.5044 - val_loss: 0.9648 - val_accuracy: 0.4965\n",
      "Epoch 50/100\n",
      "9/9 [==============================] - 5s 609ms/step - loss: 0.9839 - accuracy: 0.5149 - val_loss: 0.9649 - val_accuracy: 0.4965\n",
      "Epoch 51/100\n",
      "9/9 [==============================] - 5s 592ms/step - loss: 0.9798 - accuracy: 0.5009 - val_loss: 0.9650 - val_accuracy: 0.4965\n",
      "Epoch 52/100\n",
      "9/9 [==============================] - 5s 550ms/step - loss: 0.9974 - accuracy: 0.5044 - val_loss: 0.9647 - val_accuracy: 0.4965\n",
      "Epoch 53/100\n",
      "9/9 [==============================] - 6s 627ms/step - loss: 0.9906 - accuracy: 0.5062 - val_loss: 0.9645 - val_accuracy: 0.4965\n",
      "Epoch 54/100\n",
      "9/9 [==============================] - 5s 606ms/step - loss: 0.9865 - accuracy: 0.5062 - val_loss: 0.9644 - val_accuracy: 0.4965\n",
      "Epoch 55/100\n",
      "9/9 [==============================] - 5s 558ms/step - loss: 0.9903 - accuracy: 0.5026 - val_loss: 0.9644 - val_accuracy: 0.4965\n",
      "Epoch 56/100\n",
      "9/9 [==============================] - 5s 578ms/step - loss: 0.9865 - accuracy: 0.5079 - val_loss: 0.9642 - val_accuracy: 0.4965\n",
      "Epoch 57/100\n",
      "9/9 [==============================] - 5s 613ms/step - loss: 0.9931 - accuracy: 0.5026 - val_loss: 0.9641 - val_accuracy: 0.4965\n",
      "Epoch 58/100\n",
      "9/9 [==============================] - 5s 575ms/step - loss: 0.9734 - accuracy: 0.5026 - val_loss: 0.9639 - val_accuracy: 0.4965\n"
     ]
    },
    {
     "name": "stdout",
     "output_type": "stream",
     "text": [
      "Epoch 59/100\n",
      "9/9 [==============================] - 5s 569ms/step - loss: 0.9904 - accuracy: 0.5062 - val_loss: 0.9639 - val_accuracy: 0.4965\n",
      "Epoch 60/100\n",
      "9/9 [==============================] - 5s 543ms/step - loss: 0.9867 - accuracy: 0.5044 - val_loss: 0.9639 - val_accuracy: 0.4965\n",
      "Epoch 61/100\n",
      "9/9 [==============================] - 5s 535ms/step - loss: 0.9935 - accuracy: 0.5026 - val_loss: 0.9639 - val_accuracy: 0.4965\n",
      "Epoch 62/100\n",
      "9/9 [==============================] - 5s 542ms/step - loss: 0.9972 - accuracy: 0.5026 - val_loss: 0.9641 - val_accuracy: 0.4965\n",
      "Epoch 63/100\n",
      "9/9 [==============================] - 5s 539ms/step - loss: 0.9887 - accuracy: 0.5044 - val_loss: 0.9644 - val_accuracy: 0.4965\n",
      "Epoch 64/100\n",
      "9/9 [==============================] - 5s 559ms/step - loss: 1.0003 - accuracy: 0.5044 - val_loss: 0.9647 - val_accuracy: 0.4965\n",
      "Epoch 65/100\n",
      "9/9 [==============================] - 5s 559ms/step - loss: 0.9956 - accuracy: 0.5009 - val_loss: 0.9649 - val_accuracy: 0.4965\n",
      "Epoch 66/100\n",
      "9/9 [==============================] - 5s 550ms/step - loss: 0.9845 - accuracy: 0.5026 - val_loss: 0.9651 - val_accuracy: 0.4965\n",
      "Epoch 67/100\n",
      "9/9 [==============================] - 5s 551ms/step - loss: 0.9832 - accuracy: 0.5026 - val_loss: 0.9650 - val_accuracy: 0.4965\n",
      "Epoch 68/100\n",
      "9/9 [==============================] - 5s 552ms/step - loss: 0.9893 - accuracy: 0.5026 - val_loss: 0.9649 - val_accuracy: 0.4965\n",
      "Epoch 69/100\n",
      "9/9 [==============================] - 5s 561ms/step - loss: 0.9896 - accuracy: 0.5044 - val_loss: 0.9648 - val_accuracy: 0.4965\n",
      "Epoch 70/100\n",
      "9/9 [==============================] - 5s 579ms/step - loss: 0.9801 - accuracy: 0.5044 - val_loss: 0.9646 - val_accuracy: 0.4965\n",
      "Epoch 71/100\n",
      "9/9 [==============================] - 5s 586ms/step - loss: 0.9809 - accuracy: 0.5044 - val_loss: 0.9645 - val_accuracy: 0.4965\n",
      "Epoch 72/100\n",
      "9/9 [==============================] - 5s 615ms/step - loss: 0.9893 - accuracy: 0.5044 - val_loss: 0.9644 - val_accuracy: 0.4965\n",
      "Epoch 73/100\n",
      "9/9 [==============================] - 5s 594ms/step - loss: 0.9831 - accuracy: 0.5044 - val_loss: 0.9644 - val_accuracy: 0.4965\n",
      "Epoch 74/100\n",
      "9/9 [==============================] - 5s 619ms/step - loss: 0.9884 - accuracy: 0.5044 - val_loss: 0.9644 - val_accuracy: 0.4965\n",
      "Epoch 75/100\n",
      "9/9 [==============================] - 5s 553ms/step - loss: 0.9842 - accuracy: 0.5044 - val_loss: 0.9644 - val_accuracy: 0.4965\n",
      "Epoch 76/100\n",
      "9/9 [==============================] - 5s 539ms/step - loss: 0.9895 - accuracy: 0.5044 - val_loss: 0.9644 - val_accuracy: 0.4965\n",
      "Epoch 77/100\n",
      "9/9 [==============================] - 5s 543ms/step - loss: 0.9912 - accuracy: 0.5044 - val_loss: 0.9646 - val_accuracy: 0.4965\n",
      "Epoch 78/100\n",
      "9/9 [==============================] - 5s 545ms/step - loss: 0.9816 - accuracy: 0.5044 - val_loss: 0.9647 - val_accuracy: 0.4965\n",
      "Epoch 79/100\n",
      "9/9 [==============================] - 5s 567ms/step - loss: 0.9838 - accuracy: 0.5044 - val_loss: 0.9648 - val_accuracy: 0.4965\n",
      "Epoch 80/100\n",
      "9/9 [==============================] - 5s 551ms/step - loss: 0.9903 - accuracy: 0.5044 - val_loss: 0.9648 - val_accuracy: 0.4965\n",
      "Epoch 81/100\n",
      "9/9 [==============================] - 5s 556ms/step - loss: 0.9892 - accuracy: 0.5044 - val_loss: 0.9647 - val_accuracy: 0.4965\n",
      "Epoch 82/100\n",
      "9/9 [==============================] - 5s 575ms/step - loss: 0.9839 - accuracy: 0.5044 - val_loss: 0.9646 - val_accuracy: 0.4965\n",
      "Epoch 83/100\n",
      "9/9 [==============================] - 5s 560ms/step - loss: 0.9915 - accuracy: 0.5044 - val_loss: 0.9646 - val_accuracy: 0.4965\n",
      "Epoch 84/100\n",
      "9/9 [==============================] - 5s 594ms/step - loss: 0.9905 - accuracy: 0.5044 - val_loss: 0.9647 - val_accuracy: 0.4965\n",
      "Epoch 85/100\n",
      "9/9 [==============================] - 5s 582ms/step - loss: 0.9790 - accuracy: 0.5044 - val_loss: 0.9646 - val_accuracy: 0.4965\n",
      "Epoch 86/100\n",
      "9/9 [==============================] - 5s 578ms/step - loss: 0.9867 - accuracy: 0.5044 - val_loss: 0.9646 - val_accuracy: 0.4965\n",
      "Epoch 87/100\n",
      "9/9 [==============================] - 5s 559ms/step - loss: 0.9891 - accuracy: 0.5044 - val_loss: 0.9646 - val_accuracy: 0.4965\n",
      "Epoch 88/100\n",
      "9/9 [==============================] - 3s 329ms/step - loss: 0.9817 - accuracy: 0.5044 - val_loss: 0.9645 - val_accuracy: 0.4965\n",
      "Epoch 89/100\n",
      "9/9 [==============================] - 3s 303ms/step - loss: 0.9854 - accuracy: 0.5044 - val_loss: 0.9643 - val_accuracy: 0.4965\n",
      "Epoch 90/100\n",
      "9/9 [==============================] - 3s 309ms/step - loss: 0.9856 - accuracy: 0.5044 - val_loss: 0.9644 - val_accuracy: 0.4965\n",
      "Epoch 91/100\n",
      "9/9 [==============================] - 3s 306ms/step - loss: 0.9856 - accuracy: 0.5044 - val_loss: 0.9645 - val_accuracy: 0.4965\n",
      "Epoch 92/100\n",
      "9/9 [==============================] - 3s 308ms/step - loss: 0.9875 - accuracy: 0.5044 - val_loss: 0.9647 - val_accuracy: 0.4965\n",
      "Epoch 93/100\n",
      "9/9 [==============================] - 3s 311ms/step - loss: 0.9866 - accuracy: 0.5044 - val_loss: 0.9648 - val_accuracy: 0.4965\n",
      "Epoch 94/100\n",
      "9/9 [==============================] - 3s 301ms/step - loss: 0.9806 - accuracy: 0.5044 - val_loss: 0.9646 - val_accuracy: 0.4965\n",
      "Epoch 95/100\n",
      "9/9 [==============================] - 3s 318ms/step - loss: 0.9799 - accuracy: 0.5044 - val_loss: 0.9643 - val_accuracy: 0.4965\n",
      "Epoch 96/100\n",
      "9/9 [==============================] - 3s 319ms/step - loss: 0.9837 - accuracy: 0.5044 - val_loss: 0.9641 - val_accuracy: 0.4965\n",
      "Epoch 97/100\n",
      "9/9 [==============================] - 3s 318ms/step - loss: 0.9818 - accuracy: 0.5044 - val_loss: 0.9640 - val_accuracy: 0.4965\n",
      "Epoch 98/100\n",
      "9/9 [==============================] - 3s 321ms/step - loss: 0.9782 - accuracy: 0.5044 - val_loss: 0.9638 - val_accuracy: 0.4965\n",
      "Epoch 99/100\n",
      "9/9 [==============================] - 3s 301ms/step - loss: 0.9917 - accuracy: 0.5044 - val_loss: 0.9637 - val_accuracy: 0.4965\n",
      "Epoch 100/100\n",
      "9/9 [==============================] - 3s 306ms/step - loss: 0.9874 - accuracy: 0.5044 - val_loss: 0.9641 - val_accuracy: 0.4965\n"
     ]
    },
    {
     "data": {
      "text/plain": [
       "<keras.src.callbacks.History at 0x2d0a1fbdc10>"
      ]
     },
     "execution_count": 11,
     "metadata": {},
     "output_type": "execute_result"
    }
   ],
   "source": [
    "model.fit(x_train, y_train, batch_size=64, verbose=1, epochs=100, validation_data=(x_test, y_test), shuffle=False)"
   ]
  },
  {
   "cell_type": "code",
   "execution_count": 12,
   "id": "de0c49f6",
   "metadata": {},
   "outputs": [
    {
     "name": "stdout",
     "output_type": "stream",
     "text": [
      "5/5 [==============================] - 0s 38ms/step - loss: 0.9641 - accuracy: 0.4965\n",
      "Model accuracy: 0.4965035021305084\n",
      "Model loss: 0.9640609622001648\n"
     ]
    }
   ],
   "source": [
    "Model_loss, Model_accuracy = model.evaluate(x_test, y_test)\n",
    "\n",
    "print(f\"Model accuracy: {Model_accuracy}\")\n",
    "print(f'Model loss: {Model_loss}')"
   ]
  },
  {
   "cell_type": "code",
   "execution_count": 13,
   "id": "652ca7d6",
   "metadata": {},
   "outputs": [
    {
     "name": "stdout",
     "output_type": "stream",
     "text": [
      "Model: \"sequential\"\n",
      "_________________________________________________________________\n",
      " Layer (type)                Output Shape              Param #   \n",
      "=================================================================\n",
      " time_distributed (TimeDist  (None, 1, 126, 126, 32)   896       \n",
      " ributed)                                                        \n",
      "                                                                 \n",
      " time_distributed_1 (TimeDi  (None, 1, 126, 126, 32)   0         \n",
      " stributed)                                                      \n",
      "                                                                 \n",
      " time_distributed_2 (TimeDi  (None, 1, 63, 63, 32)     0         \n",
      " stributed)                                                      \n",
      "                                                                 \n",
      " time_distributed_3 (TimeDi  (None, 1, 61, 61, 32)     9248      \n",
      " stributed)                                                      \n",
      "                                                                 \n",
      " time_distributed_4 (TimeDi  (None, 1, 61, 61, 32)     0         \n",
      " stributed)                                                      \n",
      "                                                                 \n",
      " time_distributed_5 (TimeDi  (None, 1, 30, 30, 32)     0         \n",
      " stributed)                                                      \n",
      "                                                                 \n",
      " time_distributed_6 (TimeDi  (None, 1, 28, 28, 32)     9248      \n",
      " stributed)                                                      \n",
      "                                                                 \n",
      " time_distributed_7 (TimeDi  (None, 1, 28, 28, 32)     0         \n",
      " stributed)                                                      \n",
      "                                                                 \n",
      " time_distributed_8 (TimeDi  (None, 1, 14, 14, 32)     0         \n",
      " stributed)                                                      \n",
      "                                                                 \n",
      " time_distributed_9 (TimeDi  (None, 1, 6272)           0         \n",
      " stributed)                                                      \n",
      "                                                                 \n",
      " lstm (LSTM)                 (None, 64)                1622272   \n",
      "                                                                 \n",
      " activation_3 (Activation)   (None, 64)                0         \n",
      "                                                                 \n",
      " dropout (Dropout)           (None, 64)                0         \n",
      "                                                                 \n",
      " dense (Dense)               (None, 3)                 195       \n",
      "                                                                 \n",
      " activation_4 (Activation)   (None, 3)                 0         \n",
      "                                                                 \n",
      "=================================================================\n",
      "Total params: 1641859 (6.26 MB)\n",
      "Trainable params: 1641859 (6.26 MB)\n",
      "Non-trainable params: 0 (0.00 Byte)\n",
      "_________________________________________________________________\n"
     ]
    }
   ],
   "source": [
    "model.summary()"
   ]
  },
  {
   "cell_type": "code",
   "execution_count": null,
   "id": "67e3e155",
   "metadata": {},
   "outputs": [],
   "source": []
  }
 ],
 "metadata": {
  "kernelspec": {
   "display_name": "Python 3 (ipykernel)",
   "language": "python",
   "name": "python3"
  },
  "language_info": {
   "codemirror_mode": {
    "name": "ipython",
    "version": 3
   },
   "file_extension": ".py",
   "mimetype": "text/x-python",
   "name": "python",
   "nbconvert_exporter": "python",
   "pygments_lexer": "ipython3",
   "version": "3.9.13"
  }
 },
 "nbformat": 4,
 "nbformat_minor": 5
}
