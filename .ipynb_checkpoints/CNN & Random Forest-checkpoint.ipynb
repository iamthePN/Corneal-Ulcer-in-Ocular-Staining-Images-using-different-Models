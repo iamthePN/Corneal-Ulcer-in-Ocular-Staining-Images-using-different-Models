{
 "cells": [
  {
   "cell_type": "code",
   "execution_count": 1,
   "id": "fba58849",
   "metadata": {},
   "outputs": [
    {
     "name": "stdout",
     "output_type": "stream",
     "text": [
      "WARNING:tensorflow:From E:\\Softwares\\Anaconda\\lib\\site-packages\\keras\\src\\losses.py:2976: The name tf.losses.sparse_softmax_cross_entropy is deprecated. Please use tf.compat.v1.losses.sparse_softmax_cross_entropy instead.\n",
      "\n"
     ]
    }
   ],
   "source": [
    "import os\n",
    "import cv2\n",
    "import tensorflow as tf\n",
    "from PIL import Image\n",
    "import numpy as np\n",
    "from sklearn.model_selection import train_test_split\n",
    "from keras.utils import normalize, to_categorical\n",
    "from keras.models import Sequential\n",
    "from keras.layers import Conv2D, MaxPooling2D, Activation, Dropout, Flatten, Dense"
   ]
  },
  {
   "cell_type": "code",
   "execution_count": 2,
   "id": "817c728f",
   "metadata": {},
   "outputs": [],
   "source": [
    "image_directory = 'sorted_images/'"
   ]
  },
  {
   "cell_type": "code",
   "execution_count": 3,
   "id": "981f5a7b",
   "metadata": {},
   "outputs": [],
   "source": [
    "dataset = []\n",
    "label = []\n",
    "point_like_corneal_ulcers = os.listdir(image_directory+'0/')\n",
    "point_flaky_mixed_corneal_ulcers = os.listdir(image_directory+'1')\n",
    "flaky_corneal_ulcers = os.listdir(image_directory+'2/')\n"
   ]
  },
  {
   "cell_type": "code",
   "execution_count": 4,
   "id": "fb433882",
   "metadata": {},
   "outputs": [],
   "source": [
    "INPUT_SIZE = 128\n",
    "for i, image_name in enumerate(point_like_corneal_ulcers):\n",
    "    if(image_name.split('.')[1]=='jpg'):\n",
    "        image = cv2.imread(image_directory+'0/'+image_name)\n",
    "        image = Image.fromarray(image,'RGB')\n",
    "        image = image.resize((INPUT_SIZE, INPUT_SIZE))\n",
    "        dataset.append(np.array(image))\n",
    "        label.append(0)\n",
    "        \n",
    "for i, image_name in enumerate(point_flaky_mixed_corneal_ulcers):\n",
    "    if(image_name.split('.')[1]=='jpg'):\n",
    "        image = cv2.imread(image_directory+'1/'+image_name)\n",
    "        image = Image.fromarray(image,'RGB')\n",
    "        image = image.resize((INPUT_SIZE, INPUT_SIZE))\n",
    "        dataset.append(np.array(image))\n",
    "        label.append(1)\n",
    "        \n",
    "for i, image_name in enumerate(flaky_corneal_ulcers):\n",
    "    if(image_name.split('.')[1]=='jpg'):\n",
    "        image = cv2.imread(image_directory+'2/'+image_name)\n",
    "        image = Image.fromarray(image,'RGB')\n",
    "        image = image.resize((INPUT_SIZE, INPUT_SIZE))\n",
    "        dataset.append(np.array(image))\n",
    "        label.append(2)"
   ]
  },
  {
   "cell_type": "code",
   "execution_count": 5,
   "id": "ed1657d8",
   "metadata": {},
   "outputs": [],
   "source": [
    "dataset = np.array(dataset)\n",
    "label = np.array(label)"
   ]
  },
  {
   "cell_type": "code",
   "execution_count": 6,
   "id": "db06680c",
   "metadata": {},
   "outputs": [],
   "source": [
    "x_train,x_test,y_train,y_test = train_test_split(dataset, label, test_size = 0.2)"
   ]
  },
  {
   "cell_type": "code",
   "execution_count": 7,
   "id": "6238e3d0",
   "metadata": {},
   "outputs": [
    {
     "name": "stdout",
     "output_type": "stream",
     "text": [
      "(569, 128, 128, 3)\n",
      "(143, 128, 128, 3)\n",
      "(569,)\n",
      "(143,)\n"
     ]
    }
   ],
   "source": [
    "print(x_train.shape)\n",
    "print(x_test.shape)\n",
    "print(y_train.shape)\n",
    "print(y_test.shape)"
   ]
  },
  {
   "cell_type": "code",
   "execution_count": 8,
   "id": "9a2a3b22",
   "metadata": {},
   "outputs": [],
   "source": [
    "y_train = to_categorical(y_train, num_classes = 3)\n",
    "y_test = to_categorical(y_test, num_classes = 3)"
   ]
  },
  {
   "cell_type": "code",
   "execution_count": 9,
   "id": "46909d7e",
   "metadata": {},
   "outputs": [
    {
     "name": "stdout",
     "output_type": "stream",
     "text": [
      "WARNING:tensorflow:From E:\\Softwares\\Anaconda\\lib\\site-packages\\keras\\src\\backend.py:873: The name tf.get_default_graph is deprecated. Please use tf.compat.v1.get_default_graph instead.\n",
      "\n",
      "WARNING:tensorflow:From E:\\Softwares\\Anaconda\\lib\\site-packages\\keras\\src\\layers\\pooling\\max_pooling2d.py:161: The name tf.nn.max_pool is deprecated. Please use tf.nn.max_pool2d instead.\n",
      "\n",
      "WARNING:tensorflow:From E:\\Softwares\\Anaconda\\lib\\site-packages\\keras\\src\\optimizers\\__init__.py:309: The name tf.train.Optimizer is deprecated. Please use tf.compat.v1.train.Optimizer instead.\n",
      "\n",
      "Epoch 1/100\n",
      "WARNING:tensorflow:From E:\\Softwares\\Anaconda\\lib\\site-packages\\keras\\src\\utils\\tf_utils.py:492: The name tf.ragged.RaggedTensorValue is deprecated. Please use tf.compat.v1.ragged.RaggedTensorValue instead.\n",
      "\n",
      "WARNING:tensorflow:From E:\\Softwares\\Anaconda\\lib\\site-packages\\keras\\src\\engine\\base_layer_utils.py:384: The name tf.executing_eagerly_outside_functions is deprecated. Please use tf.compat.v1.executing_eagerly_outside_functions instead.\n",
      "\n",
      "9/9 [==============================] - 4s 304ms/step - loss: 42.2769 - accuracy: 0.4183 - val_loss: 1.7826 - val_accuracy: 0.5455\n",
      "Epoch 2/100\n",
      "9/9 [==============================] - 2s 260ms/step - loss: 2.2315 - accuracy: 0.4728 - val_loss: 1.0159 - val_accuracy: 0.5385\n",
      "Epoch 3/100\n",
      "9/9 [==============================] - 2s 270ms/step - loss: 1.0030 - accuracy: 0.4763 - val_loss: 0.8773 - val_accuracy: 0.4825\n",
      "Epoch 4/100\n",
      "9/9 [==============================] - 3s 281ms/step - loss: 1.0688 - accuracy: 0.4886 - val_loss: 0.9989 - val_accuracy: 0.5734\n",
      "Epoch 5/100\n",
      "9/9 [==============================] - 2s 264ms/step - loss: 0.9659 - accuracy: 0.5114 - val_loss: 0.8517 - val_accuracy: 0.5664\n",
      "Epoch 6/100\n",
      "9/9 [==============================] - 2s 271ms/step - loss: 0.9107 - accuracy: 0.5290 - val_loss: 0.8999 - val_accuracy: 0.6224\n",
      "Epoch 7/100\n",
      "9/9 [==============================] - 2s 265ms/step - loss: 0.8206 - accuracy: 0.5905 - val_loss: 0.8785 - val_accuracy: 0.6643\n",
      "Epoch 8/100\n",
      "9/9 [==============================] - 2s 269ms/step - loss: 0.8372 - accuracy: 0.6151 - val_loss: 0.8842 - val_accuracy: 0.6154\n",
      "Epoch 9/100\n",
      "9/9 [==============================] - 3s 406ms/step - loss: 0.7915 - accuracy: 0.6327 - val_loss: 0.8567 - val_accuracy: 0.6364\n",
      "Epoch 10/100\n",
      "9/9 [==============================] - 5s 540ms/step - loss: 0.7450 - accuracy: 0.6678 - val_loss: 0.9614 - val_accuracy: 0.6503\n",
      "Epoch 11/100\n",
      "9/9 [==============================] - 5s 538ms/step - loss: 0.7198 - accuracy: 0.6784 - val_loss: 0.8829 - val_accuracy: 0.6364\n",
      "Epoch 12/100\n",
      "9/9 [==============================] - 5s 507ms/step - loss: 0.6749 - accuracy: 0.6907 - val_loss: 0.9585 - val_accuracy: 0.6643\n",
      "Epoch 13/100\n",
      "9/9 [==============================] - 5s 530ms/step - loss: 0.6193 - accuracy: 0.7153 - val_loss: 0.8718 - val_accuracy: 0.6224\n",
      "Epoch 14/100\n",
      "9/9 [==============================] - 5s 500ms/step - loss: 0.5576 - accuracy: 0.7434 - val_loss: 0.9399 - val_accuracy: 0.6573\n",
      "Epoch 15/100\n",
      "9/9 [==============================] - 5s 511ms/step - loss: 0.4982 - accuracy: 0.7768 - val_loss: 0.9676 - val_accuracy: 0.6573\n",
      "Epoch 16/100\n",
      "9/9 [==============================] - 4s 505ms/step - loss: 0.4610 - accuracy: 0.7733 - val_loss: 0.9870 - val_accuracy: 0.6364\n",
      "Epoch 17/100\n",
      "9/9 [==============================] - 5s 529ms/step - loss: 0.3578 - accuracy: 0.8243 - val_loss: 1.1524 - val_accuracy: 0.6364\n",
      "Epoch 18/100\n",
      "9/9 [==============================] - 5s 524ms/step - loss: 0.3519 - accuracy: 0.8330 - val_loss: 1.1051 - val_accuracy: 0.6364\n",
      "Epoch 19/100\n",
      "9/9 [==============================] - 5s 505ms/step - loss: 0.3158 - accuracy: 0.8576 - val_loss: 1.0774 - val_accuracy: 0.6434\n",
      "Epoch 20/100\n",
      "9/9 [==============================] - 5s 535ms/step - loss: 0.3378 - accuracy: 0.8313 - val_loss: 1.0931 - val_accuracy: 0.6364\n",
      "Epoch 21/100\n",
      "9/9 [==============================] - 5s 528ms/step - loss: 0.3029 - accuracy: 0.8541 - val_loss: 1.1355 - val_accuracy: 0.6503\n",
      "Epoch 22/100\n",
      "9/9 [==============================] - 5s 518ms/step - loss: 0.2659 - accuracy: 0.8752 - val_loss: 1.4740 - val_accuracy: 0.6364\n",
      "Epoch 23/100\n",
      "9/9 [==============================] - 5s 512ms/step - loss: 0.3009 - accuracy: 0.8576 - val_loss: 1.0196 - val_accuracy: 0.6364\n",
      "Epoch 24/100\n",
      "9/9 [==============================] - 5s 536ms/step - loss: 0.2766 - accuracy: 0.8612 - val_loss: 1.4027 - val_accuracy: 0.6503\n",
      "Epoch 25/100\n",
      "9/9 [==============================] - 5s 512ms/step - loss: 0.2655 - accuracy: 0.8787 - val_loss: 1.1589 - val_accuracy: 0.6503\n",
      "Epoch 26/100\n",
      "9/9 [==============================] - 5s 502ms/step - loss: 0.2373 - accuracy: 0.8928 - val_loss: 1.3407 - val_accuracy: 0.6713\n",
      "Epoch 27/100\n",
      "9/9 [==============================] - 5s 544ms/step - loss: 0.2371 - accuracy: 0.8946 - val_loss: 1.1904 - val_accuracy: 0.6643\n",
      "Epoch 28/100\n",
      "9/9 [==============================] - 5s 517ms/step - loss: 0.2318 - accuracy: 0.8893 - val_loss: 1.4458 - val_accuracy: 0.6224\n",
      "Epoch 29/100\n",
      "9/9 [==============================] - 5s 513ms/step - loss: 0.2080 - accuracy: 0.8928 - val_loss: 1.1956 - val_accuracy: 0.6783\n",
      "Epoch 30/100\n",
      "9/9 [==============================] - 6s 641ms/step - loss: 0.1998 - accuracy: 0.9033 - val_loss: 1.5632 - val_accuracy: 0.6783\n",
      "Epoch 31/100\n",
      "9/9 [==============================] - 6s 628ms/step - loss: 0.1686 - accuracy: 0.9192 - val_loss: 1.3504 - val_accuracy: 0.6364\n",
      "Epoch 32/100\n",
      "9/9 [==============================] - 5s 559ms/step - loss: 0.1888 - accuracy: 0.9104 - val_loss: 1.4335 - val_accuracy: 0.6573\n",
      "Epoch 33/100\n",
      "9/9 [==============================] - 6s 628ms/step - loss: 0.1990 - accuracy: 0.9016 - val_loss: 1.3447 - val_accuracy: 0.6434\n",
      "Epoch 34/100\n",
      "9/9 [==============================] - 5s 574ms/step - loss: 0.1987 - accuracy: 0.9016 - val_loss: 1.3346 - val_accuracy: 0.6573\n",
      "Epoch 35/100\n",
      "9/9 [==============================] - 5s 552ms/step - loss: 0.1920 - accuracy: 0.9033 - val_loss: 1.3372 - val_accuracy: 0.6573\n",
      "Epoch 36/100\n",
      "9/9 [==============================] - 5s 526ms/step - loss: 0.1821 - accuracy: 0.9227 - val_loss: 1.4160 - val_accuracy: 0.6783\n",
      "Epoch 37/100\n",
      "9/9 [==============================] - 5s 566ms/step - loss: 0.1396 - accuracy: 0.9473 - val_loss: 1.8009 - val_accuracy: 0.6503\n",
      "Epoch 38/100\n",
      "9/9 [==============================] - 5s 541ms/step - loss: 0.1467 - accuracy: 0.9350 - val_loss: 1.6321 - val_accuracy: 0.6573\n",
      "Epoch 39/100\n",
      "9/9 [==============================] - 5s 549ms/step - loss: 0.1489 - accuracy: 0.9315 - val_loss: 1.6275 - val_accuracy: 0.6643\n",
      "Epoch 40/100\n",
      "9/9 [==============================] - 5s 541ms/step - loss: 0.1443 - accuracy: 0.9332 - val_loss: 1.6817 - val_accuracy: 0.6643\n",
      "Epoch 41/100\n",
      "9/9 [==============================] - 5s 520ms/step - loss: 0.1516 - accuracy: 0.9262 - val_loss: 1.6119 - val_accuracy: 0.6643\n",
      "Epoch 42/100\n",
      "9/9 [==============================] - 5s 512ms/step - loss: 0.1219 - accuracy: 0.9438 - val_loss: 1.8806 - val_accuracy: 0.6923\n",
      "Epoch 43/100\n",
      "9/9 [==============================] - 5s 561ms/step - loss: 0.1261 - accuracy: 0.9332 - val_loss: 1.4808 - val_accuracy: 0.6713\n",
      "Epoch 44/100\n",
      "9/9 [==============================] - 5s 525ms/step - loss: 0.1531 - accuracy: 0.9192 - val_loss: 1.7675 - val_accuracy: 0.6783\n",
      "Epoch 45/100\n",
      "9/9 [==============================] - 5s 554ms/step - loss: 0.0959 - accuracy: 0.9525 - val_loss: 1.7317 - val_accuracy: 0.6573\n",
      "Epoch 46/100\n",
      "9/9 [==============================] - 5s 542ms/step - loss: 0.1190 - accuracy: 0.9525 - val_loss: 1.6082 - val_accuracy: 0.6573\n",
      "Epoch 47/100\n",
      "9/9 [==============================] - 5s 528ms/step - loss: 0.1169 - accuracy: 0.9420 - val_loss: 1.9448 - val_accuracy: 0.6783\n",
      "Epoch 48/100\n",
      "9/9 [==============================] - 5s 550ms/step - loss: 0.1095 - accuracy: 0.9438 - val_loss: 1.8381 - val_accuracy: 0.6573\n",
      "Epoch 49/100\n",
      "9/9 [==============================] - 5s 555ms/step - loss: 0.1108 - accuracy: 0.9438 - val_loss: 1.6388 - val_accuracy: 0.6713\n",
      "Epoch 50/100\n",
      "9/9 [==============================] - 5s 572ms/step - loss: 0.1160 - accuracy: 0.9402 - val_loss: 1.9495 - val_accuracy: 0.7133\n",
      "Epoch 51/100\n",
      "9/9 [==============================] - 6s 615ms/step - loss: 0.1226 - accuracy: 0.9350 - val_loss: 1.7825 - val_accuracy: 0.6853\n",
      "Epoch 52/100\n",
      "9/9 [==============================] - 5s 550ms/step - loss: 0.1177 - accuracy: 0.9455 - val_loss: 1.9934 - val_accuracy: 0.6783\n",
      "Epoch 53/100\n",
      "9/9 [==============================] - 6s 613ms/step - loss: 0.1152 - accuracy: 0.9455 - val_loss: 1.9429 - val_accuracy: 0.6643\n",
      "Epoch 54/100\n",
      "9/9 [==============================] - 5s 525ms/step - loss: 0.1222 - accuracy: 0.9350 - val_loss: 1.6193 - val_accuracy: 0.6923\n",
      "Epoch 55/100\n",
      "9/9 [==============================] - 5s 510ms/step - loss: 0.1215 - accuracy: 0.9438 - val_loss: 1.8848 - val_accuracy: 0.6923\n",
      "Epoch 56/100\n",
      "9/9 [==============================] - 5s 515ms/step - loss: 0.0824 - accuracy: 0.9649 - val_loss: 2.1621 - val_accuracy: 0.6853\n",
      "Epoch 57/100\n",
      "9/9 [==============================] - 5s 566ms/step - loss: 0.1201 - accuracy: 0.9402 - val_loss: 1.7185 - val_accuracy: 0.6434\n",
      "Epoch 58/100\n",
      "9/9 [==============================] - 5s 550ms/step - loss: 0.0749 - accuracy: 0.9684 - val_loss: 2.1474 - val_accuracy: 0.6853\n",
      "Epoch 59/100\n",
      "9/9 [==============================] - 5s 526ms/step - loss: 0.0829 - accuracy: 0.9649 - val_loss: 2.2172 - val_accuracy: 0.6923\n",
      "Epoch 60/100\n",
      "9/9 [==============================] - 5s 608ms/step - loss: 0.1231 - accuracy: 0.9438 - val_loss: 1.8048 - val_accuracy: 0.6993\n",
      "Epoch 61/100\n",
      "9/9 [==============================] - 5s 567ms/step - loss: 0.1062 - accuracy: 0.9543 - val_loss: 1.6310 - val_accuracy: 0.6713\n",
      "Epoch 62/100\n",
      "9/9 [==============================] - 5s 574ms/step - loss: 0.1072 - accuracy: 0.9525 - val_loss: 2.3499 - val_accuracy: 0.6993\n",
      "Epoch 63/100\n",
      "9/9 [==============================] - 5s 526ms/step - loss: 0.1157 - accuracy: 0.9473 - val_loss: 1.5565 - val_accuracy: 0.6503\n",
      "Epoch 64/100\n",
      "9/9 [==============================] - 5s 535ms/step - loss: 0.1041 - accuracy: 0.9525 - val_loss: 1.9301 - val_accuracy: 0.6643\n",
      "Epoch 65/100\n",
      "9/9 [==============================] - 5s 575ms/step - loss: 0.0893 - accuracy: 0.9543 - val_loss: 2.2884 - val_accuracy: 0.6783\n",
      "Epoch 66/100\n",
      "9/9 [==============================] - 5s 518ms/step - loss: 0.0833 - accuracy: 0.9578 - val_loss: 1.6869 - val_accuracy: 0.6573\n",
      "Epoch 67/100\n",
      "9/9 [==============================] - 5s 506ms/step - loss: 0.0852 - accuracy: 0.9631 - val_loss: 2.3084 - val_accuracy: 0.6853\n",
      "Epoch 68/100\n",
      "9/9 [==============================] - 5s 569ms/step - loss: 0.0997 - accuracy: 0.9578 - val_loss: 1.8325 - val_accuracy: 0.6923\n",
      "Epoch 69/100\n",
      "9/9 [==============================] - 5s 569ms/step - loss: 0.0865 - accuracy: 0.9613 - val_loss: 2.2463 - val_accuracy: 0.6783\n",
      "Epoch 70/100\n",
      "9/9 [==============================] - 5s 546ms/step - loss: 0.0747 - accuracy: 0.9684 - val_loss: 2.4991 - val_accuracy: 0.6434\n",
      "Epoch 71/100\n",
      "9/9 [==============================] - 5s 546ms/step - loss: 0.1153 - accuracy: 0.9385 - val_loss: 2.0207 - val_accuracy: 0.6294\n",
      "Epoch 72/100\n",
      "9/9 [==============================] - 5s 535ms/step - loss: 0.1094 - accuracy: 0.9613 - val_loss: 2.0048 - val_accuracy: 0.6713\n",
      "Epoch 73/100\n",
      "9/9 [==============================] - 5s 546ms/step - loss: 0.0739 - accuracy: 0.9684 - val_loss: 2.0110 - val_accuracy: 0.6783\n",
      "Epoch 74/100\n",
      "9/9 [==============================] - 5s 507ms/step - loss: 0.1056 - accuracy: 0.9649 - val_loss: 2.3242 - val_accuracy: 0.6783\n",
      "Epoch 75/100\n",
      "9/9 [==============================] - 5s 514ms/step - loss: 0.0983 - accuracy: 0.9543 - val_loss: 2.2141 - val_accuracy: 0.6853\n",
      "Epoch 76/100\n",
      "9/9 [==============================] - 5s 530ms/step - loss: 0.1214 - accuracy: 0.9402 - val_loss: 2.0333 - val_accuracy: 0.6364\n",
      "Epoch 77/100\n",
      "9/9 [==============================] - 5s 516ms/step - loss: 0.0636 - accuracy: 0.9649 - val_loss: 2.2170 - val_accuracy: 0.6713\n",
      "Epoch 78/100\n",
      "9/9 [==============================] - 5s 531ms/step - loss: 0.0784 - accuracy: 0.9613 - val_loss: 2.5031 - val_accuracy: 0.6713\n",
      "Epoch 79/100\n",
      "9/9 [==============================] - 5s 523ms/step - loss: 0.0786 - accuracy: 0.9684 - val_loss: 2.0782 - val_accuracy: 0.6713\n",
      "Epoch 80/100\n",
      "9/9 [==============================] - 5s 552ms/step - loss: 0.0986 - accuracy: 0.9455 - val_loss: 2.2609 - val_accuracy: 0.6783\n",
      "Epoch 81/100\n",
      "9/9 [==============================] - 5s 517ms/step - loss: 0.0546 - accuracy: 0.9754 - val_loss: 2.4319 - val_accuracy: 0.6923\n",
      "Epoch 82/100\n",
      "9/9 [==============================] - 5s 535ms/step - loss: 0.0758 - accuracy: 0.9649 - val_loss: 2.5267 - val_accuracy: 0.6853\n",
      "Epoch 83/100\n",
      "9/9 [==============================] - 5s 546ms/step - loss: 0.0677 - accuracy: 0.9684 - val_loss: 2.2029 - val_accuracy: 0.6294\n",
      "Epoch 84/100\n",
      "9/9 [==============================] - 5s 521ms/step - loss: 0.0831 - accuracy: 0.9684 - val_loss: 2.3276 - val_accuracy: 0.6713\n",
      "Epoch 85/100\n",
      "9/9 [==============================] - 5s 549ms/step - loss: 0.0972 - accuracy: 0.9525 - val_loss: 2.1961 - val_accuracy: 0.6853\n",
      "Epoch 86/100\n",
      "9/9 [==============================] - 5s 564ms/step - loss: 0.0715 - accuracy: 0.9631 - val_loss: 2.3192 - val_accuracy: 0.6434\n",
      "Epoch 87/100\n",
      "9/9 [==============================] - 5s 607ms/step - loss: 0.0578 - accuracy: 0.9772 - val_loss: 2.3947 - val_accuracy: 0.6364\n",
      "Epoch 88/100\n",
      "9/9 [==============================] - 5s 549ms/step - loss: 0.0629 - accuracy: 0.9789 - val_loss: 2.7382 - val_accuracy: 0.7203\n",
      "Epoch 89/100\n",
      "9/9 [==============================] - 5s 533ms/step - loss: 0.0795 - accuracy: 0.9736 - val_loss: 2.5639 - val_accuracy: 0.6014\n",
      "Epoch 90/100\n",
      "9/9 [==============================] - 5s 536ms/step - loss: 0.0928 - accuracy: 0.9561 - val_loss: 1.9941 - val_accuracy: 0.6503\n",
      "Epoch 91/100\n",
      "9/9 [==============================] - 5s 562ms/step - loss: 0.0812 - accuracy: 0.9684 - val_loss: 2.3411 - val_accuracy: 0.6783\n",
      "Epoch 92/100\n",
      "9/9 [==============================] - 5s 547ms/step - loss: 0.0744 - accuracy: 0.9631 - val_loss: 2.5252 - val_accuracy: 0.6713\n",
      "Epoch 93/100\n",
      "9/9 [==============================] - 5s 535ms/step - loss: 0.0850 - accuracy: 0.9578 - val_loss: 2.1245 - val_accuracy: 0.6503\n",
      "Epoch 94/100\n",
      "9/9 [==============================] - 5s 524ms/step - loss: 0.0905 - accuracy: 0.9649 - val_loss: 2.1584 - val_accuracy: 0.6853\n",
      "Epoch 95/100\n",
      "9/9 [==============================] - 5s 554ms/step - loss: 0.0771 - accuracy: 0.9631 - val_loss: 2.5552 - val_accuracy: 0.6643\n",
      "Epoch 96/100\n",
      "9/9 [==============================] - 5s 531ms/step - loss: 0.0692 - accuracy: 0.9649 - val_loss: 3.0685 - val_accuracy: 0.6853\n",
      "Epoch 97/100\n",
      "9/9 [==============================] - 5s 555ms/step - loss: 0.0713 - accuracy: 0.9754 - val_loss: 2.4855 - val_accuracy: 0.6573\n",
      "Epoch 98/100\n",
      "9/9 [==============================] - 5s 526ms/step - loss: 0.0992 - accuracy: 0.9596 - val_loss: 2.0127 - val_accuracy: 0.6853\n",
      "Epoch 99/100\n",
      "9/9 [==============================] - 5s 524ms/step - loss: 0.0535 - accuracy: 0.9842 - val_loss: 2.1009 - val_accuracy: 0.6434\n",
      "Epoch 100/100\n",
      "9/9 [==============================] - 5s 553ms/step - loss: 0.0597 - accuracy: 0.9754 - val_loss: 2.6662 - val_accuracy: 0.6294\n"
     ]
    },
    {
     "name": "stderr",
     "output_type": "stream",
     "text": [
      "E:\\Softwares\\Anaconda\\lib\\site-packages\\keras\\src\\engine\\training.py:3103: UserWarning: You are saving your model as an HDF5 file via `model.save()`. This file format is considered legacy. We recommend using instead the native Keras format, e.g. `model.save('my_model.keras')`.\n",
      "  saving_api.save_model(\n"
     ]
    }
   ],
   "source": [
    "model = Sequential()\n",
    "model.add(Conv2D(32, (3, 3), input_shape = (INPUT_SIZE, INPUT_SIZE, 3)))\n",
    "model.add(Activation('relu'))\n",
    "model.add(MaxPooling2D(pool_size = (2, 2)))\n",
    "\n",
    "model.add(Conv2D(32, (3, 3), kernel_initializer = 'he_uniform'))\n",
    "model.add(Activation('relu'))\n",
    "model.add(MaxPooling2D(pool_size = (2, 2)))\n",
    "\n",
    "model.add(Conv2D(32, (3, 3),  kernel_initializer = 'he_uniform'))\n",
    "model.add(Activation('relu'))\n",
    "model.add(MaxPooling2D(pool_size = (2, 2)))\n",
    "\n",
    "model.add(Flatten())\n",
    "model.add(Dense(64))\n",
    "model.add(Activation('relu'))\n",
    "model.add(Dropout(0.5))\n",
    "model.add(Dense(3))\n",
    "model.add(Activation('softmax'))\n",
    "\n",
    "model.compile(loss='categorical_crossentropy', optimizer = 'adam', metrics = ['accuracy'])\n",
    "model.fit(x_train,y_train, batch_size = 64, verbose = 1, epochs = 100, validation_data = (x_test, y_test), shuffle = False)\n",
    "model.save('Ulcer.h5')"
   ]
  },
  {
   "cell_type": "code",
   "execution_count": 10,
   "id": "4942c1ae",
   "metadata": {},
   "outputs": [
    {
     "name": "stdout",
     "output_type": "stream",
     "text": [
      "5/5 [==============================] - 0s 31ms/step - loss: 2.6662 - accuracy: 0.6294\n",
      "Model accuracy: 0.6293706297874451\n",
      "Model loss: 2.666245222091675\n"
     ]
    }
   ],
   "source": [
    "Model_loss, Model_accuracy = model.evaluate(x_test, y_test)\n",
    "\n",
    "print(f\"Model accuracy: {Model_accuracy}\")\n",
    "print(f'Model loss: {Model_loss}')"
   ]
  },
  {
   "cell_type": "code",
   "execution_count": 11,
   "id": "233aa7d5",
   "metadata": {},
   "outputs": [
    {
     "name": "stdout",
     "output_type": "stream",
     "text": [
      "Model: \"sequential\"\n",
      "_________________________________________________________________\n",
      " Layer (type)                Output Shape              Param #   \n",
      "=================================================================\n",
      " conv2d (Conv2D)             (None, 126, 126, 32)      896       \n",
      "                                                                 \n",
      " activation (Activation)     (None, 126, 126, 32)      0         \n",
      "                                                                 \n",
      " max_pooling2d (MaxPooling2  (None, 63, 63, 32)        0         \n",
      " D)                                                              \n",
      "                                                                 \n",
      " conv2d_1 (Conv2D)           (None, 61, 61, 32)        9248      \n",
      "                                                                 \n",
      " activation_1 (Activation)   (None, 61, 61, 32)        0         \n",
      "                                                                 \n",
      " max_pooling2d_1 (MaxPoolin  (None, 30, 30, 32)        0         \n",
      " g2D)                                                            \n",
      "                                                                 \n",
      " conv2d_2 (Conv2D)           (None, 28, 28, 32)        9248      \n",
      "                                                                 \n",
      " activation_2 (Activation)   (None, 28, 28, 32)        0         \n",
      "                                                                 \n",
      " max_pooling2d_2 (MaxPoolin  (None, 14, 14, 32)        0         \n",
      " g2D)                                                            \n",
      "                                                                 \n",
      " flatten (Flatten)           (None, 6272)              0         \n",
      "                                                                 \n",
      " dense (Dense)               (None, 64)                401472    \n",
      "                                                                 \n",
      " activation_3 (Activation)   (None, 64)                0         \n",
      "                                                                 \n",
      " dropout (Dropout)           (None, 64)                0         \n",
      "                                                                 \n",
      " dense_1 (Dense)             (None, 3)                 195       \n",
      "                                                                 \n",
      " activation_4 (Activation)   (None, 3)                 0         \n",
      "                                                                 \n",
      "=================================================================\n",
      "Total params: 421059 (1.61 MB)\n",
      "Trainable params: 421059 (1.61 MB)\n",
      "Non-trainable params: 0 (0.00 Byte)\n",
      "_________________________________________________________________\n"
     ]
    }
   ],
   "source": [
    "model.summary()"
   ]
  },
  {
   "cell_type": "code",
   "execution_count": 12,
   "id": "e7ebc6b6",
   "metadata": {},
   "outputs": [],
   "source": [
    "from sklearn.ensemble import RandomForestClassifier\n",
    "from sklearn.metrics import accuracy_score"
   ]
  },
  {
   "cell_type": "code",
   "execution_count": 13,
   "id": "8f900f96",
   "metadata": {},
   "outputs": [],
   "source": [
    "flat_dataset = [image.flatten() for image in dataset]"
   ]
  },
  {
   "cell_type": "code",
   "execution_count": 14,
   "id": "1fb12019",
   "metadata": {},
   "outputs": [],
   "source": [
    "x_train_rf, x_test_rf, y_train_rf, y_test_rf = train_test_split(flat_dataset, label, test_size=0.2)\n"
   ]
  },
  {
   "cell_type": "code",
   "execution_count": 15,
   "id": "cc539a1d",
   "metadata": {},
   "outputs": [],
   "source": [
    "rf_model = RandomForestClassifier(n_estimators=100, random_state=42)"
   ]
  },
  {
   "cell_type": "code",
   "execution_count": 17,
   "id": "044ff775",
   "metadata": {},
   "outputs": [
    {
     "data": {
      "text/plain": [
       "RandomForestClassifier(random_state=42)"
      ]
     },
     "execution_count": 17,
     "metadata": {},
     "output_type": "execute_result"
    }
   ],
   "source": [
    "rf_model.fit(x_train_rf, y_train_rf)\n"
   ]
  },
  {
   "cell_type": "code",
   "execution_count": 21,
   "id": "eaf4c73f",
   "metadata": {},
   "outputs": [
    {
     "name": "stdout",
     "output_type": "stream",
     "text": [
      "Random Forest Accuracy: 0.6993006993006993\n"
     ]
    }
   ],
   "source": [
    "y_pred_rf = rf_model.predict(x_test_rf)\n",
    "accuracy_rf = accuracy_score(y_test_rf, y_pred_rf)\n",
    "print(\"Random Forest Accuracy:\", accuracy_rf)"
   ]
  },
  {
   "cell_type": "code",
   "execution_count": null,
   "id": "dde13d32",
   "metadata": {},
   "outputs": [],
   "source": []
  }
 ],
 "metadata": {
  "kernelspec": {
   "display_name": "Python 3 (ipykernel)",
   "language": "python",
   "name": "python3"
  },
  "language_info": {
   "codemirror_mode": {
    "name": "ipython",
    "version": 3
   },
   "file_extension": ".py",
   "mimetype": "text/x-python",
   "name": "python",
   "nbconvert_exporter": "python",
   "pygments_lexer": "ipython3",
   "version": "3.9.13"
  }
 },
 "nbformat": 4,
 "nbformat_minor": 5
}
