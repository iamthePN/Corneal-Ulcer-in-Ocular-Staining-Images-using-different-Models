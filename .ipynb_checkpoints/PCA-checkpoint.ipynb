{
 "cells": [
  {
   "cell_type": "code",
   "execution_count": 1,
   "id": "6d827551",
   "metadata": {},
   "outputs": [],
   "source": [
    "import os\n",
    "import cv2\n",
    "import numpy as np\n",
    "from sklearn.model_selection import train_test_split\n",
    "from sklearn.decomposition import PCA\n",
    "from sklearn.preprocessing import StandardScaler\n",
    "from sklearn.svm import SVC\n",
    "from sklearn.metrics import accuracy_score"
   ]
  },
  {
   "cell_type": "code",
   "execution_count": 2,
   "id": "51dfce3f",
   "metadata": {},
   "outputs": [],
   "source": [
    "image_directory = 'sorted_images/'"
   ]
  },
  {
   "cell_type": "code",
   "execution_count": 3,
   "id": "a53cd315",
   "metadata": {},
   "outputs": [],
   "source": [
    "dataset = []\n",
    "label = []\n",
    "point_like_corneal_ulcers = os.listdir(os.path.join(image_directory, '0'))\n",
    "point_flaky_mixed_corneal_ulcers = os.listdir(os.path.join(image_directory, '1'))\n",
    "flaky_corneal_ulcers = os.listdir(os.path.join(image_directory, '2'))\n"
   ]
  },
  {
   "cell_type": "code",
   "execution_count": 4,
   "id": "a626e01e",
   "metadata": {},
   "outputs": [],
   "source": [
    "INPUT_SIZE = 128\n",
    "for img_name in point_like_corneal_ulcers:\n",
    "    img_path = os.path.join(image_directory, '0', img_name)\n",
    "    img = cv2.imread(img_path)\n",
    "    if img is not None:\n",
    "        img = cv2.resize(img, (INPUT_SIZE, INPUT_SIZE))  \n",
    "        dataset.append(img)\n",
    "        label.append(0)\n",
    "        \n",
    "for img_name in point_flaky_mixed_corneal_ulcers:\n",
    "    img_path = os.path.join(image_directory, '1', img_name)\n",
    "    img = cv2.imread(img_path)\n",
    "    if img is not None:\n",
    "        img = cv2.resize(img, (INPUT_SIZE, INPUT_SIZE)) \n",
    "        dataset.append(img)\n",
    "        label.append(1)\n",
    "        \n",
    "for img_name in flaky_corneal_ulcers:\n",
    "    img_path = os.path.join(image_directory, '2', img_name)\n",
    "    img = cv2.imread(img_path)\n",
    "    if img is not None:\n",
    "        img = cv2.resize(img, (INPUT_SIZE, INPUT_SIZE)) \n",
    "        dataset.append(img)\n",
    "        label.append(2)\n",
    "        "
   ]
  },
  {
   "cell_type": "code",
   "execution_count": 5,
   "id": "c9c1b8d2",
   "metadata": {},
   "outputs": [],
   "source": [
    "dataset = np.array(dataset)\n",
    "label = np.array(label)"
   ]
  },
  {
   "cell_type": "code",
   "execution_count": 6,
   "id": "6a5fdc48",
   "metadata": {},
   "outputs": [],
   "source": [
    "num_samples, height, width, channels = dataset.shape\n",
    "dataset_flat = dataset.reshape((num_samples, height * width * channels))\n"
   ]
  },
  {
   "cell_type": "code",
   "execution_count": 7,
   "id": "e9d0db2a",
   "metadata": {},
   "outputs": [],
   "source": [
    "x_train, x_test, y_train, y_test = train_test_split(dataset_flat, label, test_size=0.2, random_state=42)\n"
   ]
  },
  {
   "cell_type": "code",
   "execution_count": 8,
   "id": "54e0b70d",
   "metadata": {},
   "outputs": [],
   "source": [
    "n_components = 64  \n",
    "pca = PCA(n_components=n_components, whiten=True).fit(x_train)\n"
   ]
  },
  {
   "cell_type": "code",
   "execution_count": 9,
   "id": "eb11ed60",
   "metadata": {},
   "outputs": [],
   "source": [
    "x_train_pca = pca.transform(x_train)\n",
    "x_test_pca = pca.transform(x_test)\n"
   ]
  },
  {
   "cell_type": "code",
   "execution_count": 10,
   "id": "a2db9920",
   "metadata": {},
   "outputs": [],
   "source": [
    "scaler = StandardScaler().fit(x_train_pca)\n",
    "x_train_pca = scaler.transform(x_train_pca)\n",
    "x_test_pca = scaler.transform(x_test_pca)\n"
   ]
  },
  {
   "cell_type": "code",
   "execution_count": 11,
   "id": "266ac30c",
   "metadata": {},
   "outputs": [
    {
     "data": {
      "text/plain": [
       "SVC()"
      ]
     },
     "execution_count": 11,
     "metadata": {},
     "output_type": "execute_result"
    }
   ],
   "source": [
    "clf = SVC(C=1.0, kernel='rbf')\n",
    "clf.fit(x_train_pca, y_train)\n"
   ]
  },
  {
   "cell_type": "code",
   "execution_count": 12,
   "id": "c4bef7ec",
   "metadata": {},
   "outputs": [
    {
     "name": "stdout",
     "output_type": "stream",
     "text": [
      "Accuracy using PCA: 0.6853146853146853\n"
     ]
    }
   ],
   "source": [
    "y_pred = clf.predict(x_test_pca)\n",
    "accuracy_pca = accuracy_score(y_test, y_pred)\n",
    "print(f'Accuracy using PCA: {accuracy_pca}')\n"
   ]
  },
  {
   "cell_type": "code",
   "execution_count": null,
   "id": "382a7366",
   "metadata": {},
   "outputs": [],
   "source": []
  }
 ],
 "metadata": {
  "kernelspec": {
   "display_name": "Python 3 (ipykernel)",
   "language": "python",
   "name": "python3"
  },
  "language_info": {
   "codemirror_mode": {
    "name": "ipython",
    "version": 3
   },
   "file_extension": ".py",
   "mimetype": "text/x-python",
   "name": "python",
   "nbconvert_exporter": "python",
   "pygments_lexer": "ipython3",
   "version": "3.9.13"
  }
 },
 "nbformat": 4,
 "nbformat_minor": 5
}
